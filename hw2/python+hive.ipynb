{
 "cells": [
  {
   "cell_type": "code",
   "execution_count": 1,
   "id": "a514dfbd",
   "metadata": {},
   "outputs": [
    {
     "name": "stdout",
     "output_type": "stream",
     "text": [
      "Collecting sasl\n",
      "  Downloading sasl-0.3.1.tar.gz (44 kB)\n",
      "\u001b[K     |████████████████████████████████| 44 kB 1.1 MB/s eta 0:00:011\n",
      "\u001b[?25hRequirement already satisfied: six in /Users/leonidbatov/opt/anaconda3/lib/python3.9/site-packages (from sasl) (1.16.0)\n",
      "Building wheels for collected packages: sasl\n",
      "  Building wheel for sasl (setup.py) ... \u001b[?25ldone\n",
      "\u001b[?25h  Created wheel for sasl: filename=sasl-0.3.1-cp39-cp39-macosx_10_9_x86_64.whl size=76986 sha256=2cb82379e24a7d6f3dcf1bdbab08a85703834b7d9dab2b100a521aa43456f507\n",
      "  Stored in directory: /Users/leonidbatov/Library/Caches/pip/wheels/cd/e8/3c/b2e16dc88a3b7d6ea6d01edc29ac9c496660f66b33aebe70e6\n",
      "Successfully built sasl\n",
      "Installing collected packages: sasl\n",
      "Successfully installed sasl-0.3.1\n",
      "Collecting thrift\n",
      "  Downloading thrift-0.16.0.tar.gz (59 kB)\n",
      "\u001b[K     |████████████████████████████████| 59 kB 1.3 MB/s eta 0:00:011\n",
      "\u001b[?25hRequirement already satisfied: six>=1.7.2 in /Users/leonidbatov/opt/anaconda3/lib/python3.9/site-packages (from thrift) (1.16.0)\n",
      "Building wheels for collected packages: thrift\n",
      "  Building wheel for thrift (setup.py) ... \u001b[?25ldone\n",
      "\u001b[?25h  Created wheel for thrift: filename=thrift-0.16.0-cp39-cp39-macosx_10_9_x86_64.whl size=175472 sha256=9b6bbf611f3e55a9398fa87817591de7e4bcc46743130cd382a5c033106b1c2a\n",
      "  Stored in directory: /Users/leonidbatov/Library/Caches/pip/wheels/67/b1/a4/cf8b927fdbee8e55234f1f421b531685b960e5f23b6273cfcf\n",
      "Successfully built thrift\n",
      "Installing collected packages: thrift\n",
      "Successfully installed thrift-0.16.0\n",
      "Collecting thrift-sasl\n",
      "  Downloading thrift_sasl-0.4.3-py2.py3-none-any.whl (8.3 kB)\n",
      "Requirement already satisfied: six>=1.13.0 in /Users/leonidbatov/opt/anaconda3/lib/python3.9/site-packages (from thrift-sasl) (1.16.0)\n",
      "Collecting pure-sasl>=0.6.2\n",
      "  Downloading pure-sasl-0.6.2.tar.gz (11 kB)\n",
      "Requirement already satisfied: thrift>=0.10.0 in /Users/leonidbatov/opt/anaconda3/lib/python3.9/site-packages (from thrift-sasl) (0.16.0)\n",
      "Building wheels for collected packages: pure-sasl\n",
      "  Building wheel for pure-sasl (setup.py) ... \u001b[?25ldone\n",
      "\u001b[?25h  Created wheel for pure-sasl: filename=pure_sasl-0.6.2-py3-none-any.whl size=11443 sha256=d1a78eaf6cf7b8e327419fcfac60052aa7d7c4c27c941d22c7ce7b54ce216f93\n",
      "  Stored in directory: /Users/leonidbatov/Library/Caches/pip/wheels/46/87/60/7fb7069c8135d081326017206a8481795191246b680e2ff67a\n",
      "Successfully built pure-sasl\n",
      "Installing collected packages: pure-sasl, thrift-sasl\n",
      "Successfully installed pure-sasl-0.6.2 thrift-sasl-0.4.3\n",
      "Collecting PyHive\n",
      "  Downloading PyHive-0.6.5.tar.gz (44 kB)\n",
      "\u001b[K     |████████████████████████████████| 44 kB 1.1 MB/s eta 0:00:011\n",
      "\u001b[?25hRequirement already satisfied: future in /Users/leonidbatov/opt/anaconda3/lib/python3.9/site-packages (from PyHive) (0.18.2)\n",
      "Requirement already satisfied: python-dateutil in /Users/leonidbatov/opt/anaconda3/lib/python3.9/site-packages (from PyHive) (2.8.2)\n",
      "Requirement already satisfied: six>=1.5 in /Users/leonidbatov/opt/anaconda3/lib/python3.9/site-packages (from python-dateutil->PyHive) (1.16.0)\n",
      "Building wheels for collected packages: PyHive\n",
      "  Building wheel for PyHive (setup.py) ... \u001b[?25ldone\n",
      "\u001b[?25h  Created wheel for PyHive: filename=PyHive-0.6.5-py3-none-any.whl size=51574 sha256=a557ed7904d3ff3a3ccafe90420f560363ace2d38816bb150cfbfdc4737a0baa\n",
      "  Stored in directory: /Users/leonidbatov/Library/Caches/pip/wheels/0b/8c/09/c6357b8b50c7ed462aca5b70958031fb121e94297b00048b36\n",
      "Successfully built PyHive\n",
      "Installing collected packages: PyHive\n",
      "Successfully installed PyHive-0.6.5\n"
     ]
    }
   ],
   "source": [
    "!pip install sasl\n",
    "!pip install thrift\n",
    "!pip install thrift-sasl\n",
    "!pip install PyHive"
   ]
  },
  {
   "cell_type": "code",
   "execution_count": 1,
   "id": "90089571",
   "metadata": {},
   "outputs": [],
   "source": [
    "from pyhive import hive\n",
    "conn = hive.Connection(host=\"localhost\", port=10000, username=\"hive\")"
   ]
  },
  {
   "cell_type": "code",
   "execution_count": 2,
   "id": "3cf18de8",
   "metadata": {},
   "outputs": [
    {
     "name": "stdout",
     "output_type": "stream",
     "text": [
      "('zzz',)\n"
     ]
    }
   ],
   "source": [
    "cursor = conn.cursor()\n",
    "cursor.execute(\"SELECT 'zzz' as a\")\n",
    "for result in cursor.fetchall():\n",
    "    print(result)"
   ]
  },
  {
   "cell_type": "code",
   "execution_count": 17,
   "id": "fa38afe4",
   "metadata": {},
   "outputs": [],
   "source": [
    "cursor.execute(\"create table test_table (id int)\")"
   ]
  },
  {
   "cell_type": "code",
   "execution_count": 4,
   "id": "7e56c0ec",
   "metadata": {},
   "outputs": [],
   "source": [
    "cursor.execute(\"insert into table test_table (id) values (17)\")"
   ]
  },
  {
   "cell_type": "code",
   "execution_count": 10,
   "id": "3c44095a",
   "metadata": {},
   "outputs": [
    {
     "name": "stdout",
     "output_type": "stream",
     "text": [
      "(17,)\n"
     ]
    }
   ],
   "source": [
    "cursor.execute(\"SELECT * from test_table\")\n",
    "for result in cursor.fetchall():\n",
    "    print(result)"
   ]
  },
  {
   "cell_type": "code",
   "execution_count": null,
   "id": "68c6a046",
   "metadata": {},
   "outputs": [],
   "source": []
  }
 ],
 "metadata": {
  "kernelspec": {
   "display_name": "Python 3 (ipykernel)",
   "language": "python",
   "name": "python3"
  },
  "language_info": {
   "codemirror_mode": {
    "name": "ipython",
    "version": 3
   },
   "file_extension": ".py",
   "mimetype": "text/x-python",
   "name": "python",
   "nbconvert_exporter": "python",
   "pygments_lexer": "ipython3",
   "version": "3.9.7"
  }
 },
 "nbformat": 4,
 "nbformat_minor": 5
}
