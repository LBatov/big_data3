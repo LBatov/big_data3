{
 "cells": [
  {
   "cell_type": "code",
   "execution_count": 2,
   "id": "1a53d437",
   "metadata": {},
   "outputs": [],
   "source": [
    "import random\n",
    "import numpy as np"
   ]
  },
  {
   "cell_type": "code",
   "execution_count": 3,
   "id": "cc26cbb2",
   "metadata": {},
   "outputs": [],
   "source": [
    "def lin_f(x):\n",
    "    A = 0.7\n",
    "    B = 6.0\n",
    "    C = 0.03\n",
    "    D = 11\n",
    "    E = 1\n",
    "    return A*x[0] + B * x[1] + C * x[2] + D * x[3] + E"
   ]
  },
  {
   "cell_type": "code",
   "execution_count": 14,
   "id": "09cb8ac1",
   "metadata": {},
   "outputs": [],
   "source": [
    "res = np.random.rand(10000,5)"
   ]
  },
  {
   "cell_type": "code",
   "execution_count": 15,
   "id": "07cd8664",
   "metadata": {},
   "outputs": [],
   "source": [
    "res[:, 4] = np.apply_along_axis(lin_f, 1, res[:, :4]) "
   ]
  },
  {
   "cell_type": "code",
   "execution_count": 16,
   "id": "5722896a",
   "metadata": {},
   "outputs": [],
   "source": [
    "np.savetxt(\"data.csv\", res, delimiter=\",\")"
   ]
  },
  {
   "cell_type": "code",
   "execution_count": null,
   "id": "483dab82",
   "metadata": {},
   "outputs": [],
   "source": []
  }
 ],
 "metadata": {
  "kernelspec": {
   "display_name": "Python 3 (ipykernel)",
   "language": "python",
   "name": "python3"
  },
  "language_info": {
   "codemirror_mode": {
    "name": "ipython",
    "version": 3
   },
   "file_extension": ".py",
   "mimetype": "text/x-python",
   "name": "python",
   "nbconvert_exporter": "python",
   "pygments_lexer": "ipython3",
   "version": "3.9.7"
  }
 },
 "nbformat": 4,
 "nbformat_minor": 5
}
